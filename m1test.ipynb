{
 "cells": [
  {
   "cell_type": "code",
   "execution_count": null,
   "id": "5c6f4679-46d1-44e5-85e2-1334e1c58b56",
   "metadata": {
    "scrolled": true,
    "tags": []
   },
   "outputs": [],
   "source": [
    "ListPlot[Table[{Sin[n], Sin[2 n]}, {n, 50}]]"
   ]
  },
  {
   "cell_type": "code",
   "execution_count": null,
   "id": "ab801e2f-33f1-4c14-9c10-a3096bdd7884",
   "metadata": {},
   "outputs": [],
   "source": [
    "trainingData = ResourceData[\"MNIST\",\"TrainingData\"]"
   ]
  },
  {
   "cell_type": "code",
   "execution_count": null,
   "id": "410c73bf-2635-4bf8-9b2e-b065092eb96a",
   "metadata": {},
   "outputs": [],
   "source": [
    "testData = ResourceData[\"MNIST\", \"TrainingData\"]"
   ]
  },
  {
   "cell_type": "code",
   "execution_count": null,
   "id": "a7178fc6-2716-41ac-ab54-a6ebafdf2348",
   "metadata": {},
   "outputs": [],
   "source": [
    "RandomSample[trainingData, 8]"
   ]
  }
 ],
 "metadata": {
  "kernelspec": {
   "display_name": "Wolfram Language 12.3",
   "language": "Wolfram Language",
   "name": "wolframlanguage12.3"
  },
  "language_info": {
   "codemirror_mode": "mathematica",
   "file_extension": ".m",
   "mimetype": "application/vnd.wolfram.m",
   "name": "Wolfram Language",
   "pygments_lexer": "mathematica",
   "version": "12.0"
  },
  "widgets": {
   "application/vnd.jupyter.widget-state+json": {
    "state": {},
    "version_major": 2,
    "version_minor": 0
   }
  }
 },
 "nbformat": 4,
 "nbformat_minor": 5
}
