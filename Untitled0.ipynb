{
  "nbformat": 4,
  "nbformat_minor": 0,
  "metadata": {
    "colab": {
      "name": "Untitled0.ipynb",
      "provenance": [],
      "toc_visible": true,
      "collapsed_sections": [],
      "mount_file_id": "10HDPmNY45Owj9ws6q9Pb1lpaYRqyjSrf",
      "authorship_tag": "ABX9TyP28oANRQ43WA/peZ68QVBM",
      "include_colab_link": true
    },
    "kernelspec": {
      "name": "python3",
      "display_name": "Python 3"
    },
    "language_info": {
      "name": "python"
    },
    "accelerator": "GPU",
    "gpuClass": "standard"
  },
  "cells": [
    {
      "cell_type": "markdown",
      "metadata": {
        "id": "view-in-github",
        "colab_type": "text"
      },
      "source": [
        "<a href=\"https://colab.research.google.com/github/nufeng1999/ipynb/blob/main/Untitled0.ipynb\" target=\"_parent\"><img src=\"https://colab.research.google.com/assets/colab-badge.svg\" alt=\"Open In Colab\"/></a>"
      ]
    },
    {
      "cell_type": "code",
      "execution_count": 1,
      "metadata": {
        "colab": {
          "base_uri": "https://localhost:8080/"
        },
        "id": "6Abm3xWKdDj7",
        "outputId": "9e02d178-9160-46b5-c27a-ddd5ab65db74"
      },
      "outputs": [
        {
          "output_type": "stream",
          "name": "stdout",
          "text": [
            "Sun Aug 14 07:35:50 2022       \n",
            "+-----------------------------------------------------------------------------+\n",
            "| NVIDIA-SMI 460.32.03    Driver Version: 460.32.03    CUDA Version: 11.2     |\n",
            "|-------------------------------+----------------------+----------------------+\n",
            "| GPU  Name        Persistence-M| Bus-Id        Disp.A | Volatile Uncorr. ECC |\n",
            "| Fan  Temp  Perf  Pwr:Usage/Cap|         Memory-Usage | GPU-Util  Compute M. |\n",
            "|                               |                      |               MIG M. |\n",
            "|===============================+======================+======================|\n",
            "|   0  Tesla T4            Off  | 00000000:00:04.0 Off |                    0 |\n",
            "| N/A   47C    P8     9W /  70W |      0MiB / 15109MiB |      0%      Default |\n",
            "|                               |                      |                  N/A |\n",
            "+-------------------------------+----------------------+----------------------+\n",
            "                                                                               \n",
            "+-----------------------------------------------------------------------------+\n",
            "| Processes:                                                                  |\n",
            "|  GPU   GI   CI        PID   Type   Process name                  GPU Memory |\n",
            "|        ID   ID                                                   Usage      |\n",
            "|=============================================================================|\n",
            "|  No running processes found                                                 |\n",
            "+-----------------------------------------------------------------------------+\n"
          ]
        }
      ],
      "source": [
        "!/opt/bin/nvidia-smi"
      ]
    },
    {
      "cell_type": "code",
      "source": [
        ""
      ],
      "metadata": {
        "id": "1-eqhWXtSzom"
      },
      "execution_count": null,
      "outputs": []
    },
    {
      "cell_type": "code",
      "source": [
        "import torch\n",
        "import torch.nn.functional as F     # 激励函数都在这\n",
        "from torch.autograd import Variable\n",
        "\n",
        "# 做一些假数据来观看图像\n",
        "x = torch.linspace(-5, 5, 200)  # x data (tensor), shape=(100, 1)\n",
        "x = Variable(x)"
      ],
      "metadata": {
        "id": "UhLqw7BuS196"
      },
      "execution_count": 3,
      "outputs": []
    },
    {
      "cell_type": "markdown",
      "source": [
        "# 新段落"
      ],
      "metadata": {
        "id": "tUM4-SDU7UWB"
      }
    },
    {
      "cell_type": "code",
      "source": [
        "\n",
        "import numpy as np\n",
        "\n",
        "np_data = np.arange(6).reshape((2, 3))\n",
        "torch_data = torch.from_numpy(np_data)\n",
        "tensor2array = torch_data.numpy()\n",
        "print(\n",
        "    '\\nnumpy array:', np_data,          # [[0 1 2], [3 4 5]]\n",
        "    '\\ntorch tensor:', torch_data,      #  0  1  2 \\n 3  4  5    [torch.LongTensor of size 2x3]\n",
        "    '\\ntensor to array:', tensor2array, # [[0 1 2], [3 4 5]]\n",
        ")"
      ],
      "metadata": {
        "colab": {
          "base_uri": "https://localhost:8080/"
        },
        "id": "6RnxkfOoS98k",
        "outputId": "e2d45028-ae3b-41e4-8916-a04fa42e444e"
      },
      "execution_count": 6,
      "outputs": [
        {
          "output_type": "stream",
          "name": "stdout",
          "text": [
            "\n",
            "numpy array: [[0 1 2]\n",
            " [3 4 5]] \n",
            "torch tensor: tensor([[0, 1, 2],\n",
            "        [3, 4, 5]]) \n",
            "tensor to array: [[0 1 2]\n",
            " [3 4 5]]\n"
          ]
        }
      ]
    },
    {
      "cell_type": "code",
      "source": [
        "from google.colab import drive \n",
        "drive.mount('/content/drive/')"
      ],
      "metadata": {
        "colab": {
          "base_uri": "https://localhost:8080/"
        },
        "id": "1Mh-ehh8eYcr",
        "outputId": "baecc5d9-04e9-4118-c6f4-f6e5b9dfc153"
      },
      "execution_count": null,
      "outputs": [
        {
          "output_type": "stream",
          "name": "stdout",
          "text": [
            "Mounted at /content/drive/\n"
          ]
        }
      ]
    },
    {
      "cell_type": "code",
      "source": [
        "import torch\n",
        "print(torch.cuda.is_available())\n",
        "x = torch.rand((3,5))\n",
        "print(x)"
      ],
      "metadata": {
        "colab": {
          "base_uri": "https://localhost:8080/"
        },
        "id": "oNexVloefvQw",
        "outputId": "8506c520-02f1-424e-98ca-792aae44c56b"
      },
      "execution_count": null,
      "outputs": [
        {
          "output_type": "stream",
          "name": "stdout",
          "text": [
            "True\n",
            "tensor([[0.1534, 0.2954, 0.2353, 0.7407, 0.1462],\n",
            "        [0.1457, 0.5796, 0.4354, 0.5664, 0.9525],\n",
            "        [0.3248, 0.9231, 0.5411, 0.1231, 0.0178]])\n"
          ]
        }
      ]
    },
    {
      "cell_type": "code",
      "source": [
        "!pwd\n",
        "!ls"
      ],
      "metadata": {
        "colab": {
          "base_uri": "https://localhost:8080/"
        },
        "id": "VMhPo74VkRvp",
        "outputId": "904914a1-243d-44c8-b711-d43a2f9ec958"
      },
      "execution_count": null,
      "outputs": [
        {
          "output_type": "stream",
          "name": "stdout",
          "text": [
            "/content\n",
            "drive  sample_data\n"
          ]
        }
      ]
    },
    {
      "cell_type": "code",
      "source": [
        "!cat /etc/os-release"
      ],
      "metadata": {
        "colab": {
          "base_uri": "https://localhost:8080/"
        },
        "id": "z0xTXu8HmSI5",
        "outputId": "49b6ed72-373e-4176-a7ba-2cd5c67e5900"
      },
      "execution_count": null,
      "outputs": [
        {
          "output_type": "stream",
          "name": "stdout",
          "text": [
            "NAME=\"Ubuntu\"\n",
            "VERSION=\"18.04.6 LTS (Bionic Beaver)\"\n",
            "ID=ubuntu\n",
            "ID_LIKE=debian\n",
            "PRETTY_NAME=\"Ubuntu 18.04.6 LTS\"\n",
            "VERSION_ID=\"18.04\"\n",
            "HOME_URL=\"https://www.ubuntu.com/\"\n",
            "SUPPORT_URL=\"https://help.ubuntu.com/\"\n",
            "BUG_REPORT_URL=\"https://bugs.launchpad.net/ubuntu/\"\n",
            "PRIVACY_POLICY_URL=\"https://www.ubuntu.com/legal/terms-and-policies/privacy-policy\"\n",
            "VERSION_CODENAME=bionic\n",
            "UBUNTU_CODENAME=bionic\n"
          ]
        }
      ]
    },
    {
      "cell_type": "code",
      "source": [
        "import torch \n",
        "x = torch.empty(5, 3) \n",
        "print(x) "
      ],
      "metadata": {
        "colab": {
          "base_uri": "https://localhost:8080/"
        },
        "id": "q-Dd8_LMm9eb",
        "outputId": "d77dc687-2880-4d06-a54c-e1548eefcda8"
      },
      "execution_count": null,
      "outputs": [
        {
          "output_type": "stream",
          "name": "stdout",
          "text": [
            "tensor([[1.2854e-35, 0.0000e+00, 3.3631e-44],\n",
            "        [0.0000e+00,        nan, 0.0000e+00],\n",
            "        [1.1578e+27, 1.1362e+30, 7.1547e+22],\n",
            "        [4.5828e+30, 1.2121e+04, 7.1846e+22],\n",
            "        [9.2198e-39, 7.0374e+22, 0.0000e+00]])\n"
          ]
        }
      ]
    },
    {
      "cell_type": "code",
      "source": [
        "from __future__ import print_function\n",
        "import torch\n",
        "\n",
        "x = torch.empty(5, 3)\n",
        "print(x)\n",
        "\n",
        "x = torch.rand(5, 3)\n",
        "print(x)"
      ],
      "metadata": {
        "colab": {
          "base_uri": "https://localhost:8080/"
        },
        "id": "orKL8uVC-V4F",
        "outputId": "431e0160-2364-4bbb-82b4-12e35eb7b93a"
      },
      "execution_count": null,
      "outputs": [
        {
          "output_type": "stream",
          "name": "stdout",
          "text": [
            "tensor([[1.2855e-35, 0.0000e+00, 1.5975e-43],\n",
            "        [1.3873e-43, 1.4574e-43, 6.4460e-44],\n",
            "        [1.4153e-43, 1.5274e-43, 1.5695e-43],\n",
            "        [1.6255e-43, 1.6956e-43, 6.9397e+22],\n",
            "        [1.7260e+25, 2.2856e+20, 5.0948e-14]])\n",
            "tensor([[0.8523, 0.4680, 0.2989],\n",
            "        [0.8751, 0.5959, 0.8377],\n",
            "        [0.6720, 0.1279, 0.7402],\n",
            "        [0.5454, 0.1243, 0.0379],\n",
            "        [0.0957, 0.7999, 0.5161]])\n"
          ]
        }
      ]
    },
    {
      "cell_type": "code",
      "source": [
        "x = x.new_ones(5, 3, dtype=torch.double)      # new_* methods take in sizes\n",
        "print(x)\n",
        "x = torch.randn_like(x, dtype=torch.float)    # 重载 dtype!\n",
        "print(x)                                      # 结果size一致\n",
        "\n",
        "y = torch.rand(5, 3)\n",
        "print(x + y)"
      ],
      "metadata": {
        "colab": {
          "base_uri": "https://localhost:8080/"
        },
        "id": "S7VYJbxL-tGn",
        "outputId": "befc69ae-71e7-484c-f8b1-54d34fbd583b"
      },
      "execution_count": null,
      "outputs": [
        {
          "output_type": "stream",
          "name": "stdout",
          "text": [
            "tensor([[1., 1., 1.],\n",
            "        [1., 1., 1.],\n",
            "        [1., 1., 1.],\n",
            "        [1., 1., 1.],\n",
            "        [1., 1., 1.]], dtype=torch.float64)\n",
            "tensor([[-0.7910, -0.4996,  0.0473],\n",
            "        [ 2.0618, -0.6512, -0.1234],\n",
            "        [ 0.1794, -0.6762, -0.2301],\n",
            "        [ 0.0462, -1.3990,  0.9307],\n",
            "        [ 0.4882, -0.4101, -0.5547]])\n",
            "tensor([[-0.2408, -0.0667,  0.9618],\n",
            "        [ 2.4146, -0.1304,  0.0413],\n",
            "        [ 0.3973, -0.0796,  0.2900],\n",
            "        [ 0.1266, -0.9065,  1.1414],\n",
            "        [ 1.0555,  0.2632,  0.0228]])\n"
          ]
        }
      ]
    },
    {
      "cell_type": "code",
      "source": [
        "if torch.cuda.is_available():\n",
        "    device = torch.device(\"cuda\")          # a CUDA device object\n",
        "    y = torch.ones_like(x, device=device)  # 直接在GPU上创建tensor\n",
        "    x = x.to(device)                       # 或者使用`.to(\"cuda\")`方法\n",
        "    z = x + y\n",
        "    print(z)\n",
        "    print(z.to(\"cpu\", torch.double))       # `.to`也能在移动时改变dtype"
      ],
      "metadata": {
        "id": "P6_Tp0CP_ihk",
        "outputId": "27b3f7e2-8c28-4a28-a95a-24deb674b8af",
        "colab": {
          "base_uri": "https://localhost:8080/"
        }
      },
      "execution_count": null,
      "outputs": [
        {
          "output_type": "stream",
          "name": "stdout",
          "text": [
            "tensor([[ 0.2090,  0.5004,  1.0473],\n",
            "        [ 3.0618,  0.3488,  0.8766],\n",
            "        [ 1.1794,  0.3238,  0.7699],\n",
            "        [ 1.0462, -0.3990,  1.9307],\n",
            "        [ 1.4882,  0.5899,  0.4453]], device='cuda:0')\n",
            "tensor([[ 0.2090,  0.5004,  1.0473],\n",
            "        [ 3.0618,  0.3488,  0.8766],\n",
            "        [ 1.1794,  0.3238,  0.7699],\n",
            "        [ 1.0462, -0.3990,  1.9307],\n",
            "        [ 1.4882,  0.5899,  0.4453]], dtype=torch.float64)\n"
          ]
        }
      ]
    }
  ]
}